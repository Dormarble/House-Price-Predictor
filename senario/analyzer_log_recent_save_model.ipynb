{
 "cells": [
  {
   "cell_type": "code",
   "execution_count": 1,
   "metadata": {},
   "outputs": [
    {
     "name": "stderr",
     "output_type": "stream",
     "text": [
      "C:\\Users\\gudfl\\Anaconda3\\envs\\tf_env\\lib\\site-packages\\sklearn\\externals\\joblib\\__init__.py:15: DeprecationWarning: sklearn.externals.joblib is deprecated in 0.21 and will be removed in 0.23. Please import this functionality directly from joblib, which can be installed with: pip install joblib. If this warning is raised when loading pickled models, you may need to re-serialize those models with scikit-learn 0.21+.\n",
      "  warnings.warn(msg, category=DeprecationWarning)\n"
     ]
    }
   ],
   "source": [
    "import numpy as np \n",
    "import pandas as pd\n",
    "import datetime\n",
    "import matplotlib.pyplot as plt\n",
    "import numpy as np\n",
    "import warnings\n",
    "warnings.filterwarnings('ignore')\n",
    "from sklearn.ensemble import RandomForestRegressor\n",
    "from xgboost import XGBRegressor\n",
    "from sklearn.tree import DecisionTreeRegressor\n",
    "from sklearn.metrics import r2_score\n",
    "from sklearn.metrics import mean_squared_error\n",
    "from sklearn.model_selection import train_test_split\n",
    "import pickle\n",
    "from sklearn.externals import joblib\n",
    "plt.rcParams['font.family'] = 'AppleGothic'"
   ]
  },
  {
   "cell_type": "code",
   "execution_count": 2,
   "metadata": {},
   "outputs": [],
   "source": [
    "X_train = pd.read_csv('X_train.csv', index_col='id')\n",
    "y_train = pd.read_csv(\"y_train.csv\", index_col='id')"
   ]
  },
  {
   "cell_type": "code",
   "execution_count": 4,
   "metadata": {},
   "outputs": [
    {
     "data": {
      "text/plain": [
       "['decision_tree_regressor.pkl']"
      ]
     },
     "execution_count": 4,
     "metadata": {},
     "output_type": "execute_result"
    }
   ],
   "source": [
    "# DecisionTree 학습\n",
    "decision_tree_regressor = DecisionTreeRegressor(max_depth=24, random_state=0)\n",
    "decision_tree_regressor = decision_tree_regressor.fit(X_train, y_train)\n",
    "joblib.dump(decision_tree_regressor, 'decision_tree_regressor.pkl') "
   ]
  },
  {
   "cell_type": "code",
   "execution_count": 3,
   "metadata": {},
   "outputs": [
    {
     "data": {
      "text/plain": [
       "['random_forest_regressor.pkl']"
      ]
     },
     "execution_count": 3,
     "metadata": {},
     "output_type": "execute_result"
    }
   ],
   "source": [
    "# RandomForest 학습\n",
    "random_forest_regressor = RandomForestRegressor(n_estimators=150, n_jobs=-1)\n",
    "random_forest_regressor = random_forest_regressor.fit(X_train, y_train)\n",
    "joblib.dump(random_forest_regressor, 'random_forest_regressor.pkl') "
   ]
  },
  {
   "cell_type": "code",
   "execution_count": 4,
   "metadata": {},
   "outputs": [
    {
     "name": "stdout",
     "output_type": "stream",
     "text": [
      "[00:21:10] WARNING: src/objective/regression_obj.cu:152: reg:linear is now deprecated in favor of reg:squarederror.\n"
     ]
    },
    {
     "data": {
      "text/plain": [
       "['xgboost_regressor.pkl']"
      ]
     },
     "execution_count": 4,
     "metadata": {},
     "output_type": "execute_result"
    }
   ],
   "source": [
    "# XGBoost 학습\n",
    "xgboost_regressor = XGBRegressor(max_depth=13)\n",
    "xgboost_regressor = xgboost_regressor.fit(X_train, y_train)\n",
    "joblib.dump(xgboost_regressor, 'xgboost_regressor.pkl') "
   ]
  },
  {
   "cell_type": "code",
   "execution_count": 3,
   "metadata": {},
   "outputs": [],
   "source": [
    "from sklearn.model_selection import StratifiedKFold\n",
    "from sklearn.metrics import mean_absolute_error\n",
    "\n",
    "def get_stacking_base_datasets(model, X_train_n, y_train_n, n_folds ):\n",
    "    kf = StratifiedKFold(n_splits=n_folds, random_state=0)\n",
    "    #추후에 메타 모델이 사용할 학습 데이터 반환을 위한 넘파이 배열 초기화 \n",
    "    train_fold_pred = np.zeros((X_train_n.shape[0] ,1 ))\n",
    "    print(model.__class__.__name__ , ' model 시작 ')\n",
    "    \n",
    "    for folder_counter , (train_index, valid_index) in enumerate(kf.split(X_train_n, y_train_n)):\n",
    "        #입력된 학습 데이터에서 기반 모델이 학습/예측할 폴드 데이터 셋 추출 \n",
    "        print('\\t 폴드 세트: ',folder_counter,' 시작 ')\n",
    "        X_tr = X_train_n.iloc[train_index]\n",
    "        y_tr = y_train_n.iloc[train_index] \n",
    "        X_te = X_train_n.iloc[valid_index]  \n",
    "        \n",
    "        #폴드 세트 내부에서 다시 만들어진 학습 데이터로 기반 모델의 학습 수행.\n",
    "        model.fit(X_tr , y_tr)       \n",
    "        #폴드 세트 내부에서 다시 만들어진 검증 데이터로 기반 모델 예측 후 데이터 저장.\n",
    "        train_fold_pred[valid_index, :] = model.predict(X_te).reshape(-1,1)\n",
    "    #train_fold_pred는 최종 메타 모델이 사용하는 학습 데이터, test_pred_mean은 테스트 데이터\n",
    "    return train_fold_pred"
   ]
  },
  {
   "cell_type": "code",
   "execution_count": 4,
   "metadata": {},
   "outputs": [],
   "source": [
    "dtr = DecisionTreeRegressor(max_depth=24, random_state=0)\n",
    "rfr = RandomForestRegressor(n_estimators=200, n_jobs=-1)\n",
    "xr = XGBRegressor(max_depth=13)"
   ]
  },
  {
   "cell_type": "code",
   "execution_count": 5,
   "metadata": {},
   "outputs": [
    {
     "name": "stdout",
     "output_type": "stream",
     "text": [
      "RandomForestRegressor  model 시작 \n",
      "\t 폴드 세트:  0  시작 \n",
      "\t 폴드 세트:  1  시작 \n",
      "\t 폴드 세트:  2  시작 \n",
      "DecisionTreeRegressor  model 시작 \n",
      "\t 폴드 세트:  0  시작 \n",
      "\t 폴드 세트:  1  시작 \n",
      "\t 폴드 세트:  2  시작 \n",
      "XGBRegressor  model 시작 \n",
      "\t 폴드 세트:  0  시작 \n",
      "[00:56:08] WARNING: src/objective/regression_obj.cu:152: reg:linear is now deprecated in favor of reg:squarederror.\n",
      "\t 폴드 세트:  1  시작 \n",
      "[01:01:35] WARNING: src/objective/regression_obj.cu:152: reg:linear is now deprecated in favor of reg:squarederror.\n",
      "\t 폴드 세트:  2  시작 \n",
      "[01:07:12] WARNING: src/objective/regression_obj.cu:152: reg:linear is now deprecated in favor of reg:squarederror.\n"
     ]
    }
   ],
   "source": [
    "# CV스태킹 알고리즘 각 모델에 적용\n",
    "rf_train = get_stacking_base_datasets(rfr, X_train, y_train, 3)\n",
    "dt_train = get_stacking_base_datasets(dtr, X_train, y_train,  3)    \n",
    "xgb_train = get_stacking_base_datasets(xr, X_train, y_train, 3)"
   ]
  },
  {
   "cell_type": "code",
   "execution_count": 6,
   "metadata": {},
   "outputs": [],
   "source": [
    "# CV스태킹 알고리즘 결과로 메타 모델 학습/시험에 필요한 result_a result_b 만들기 \n",
    "Stack_final_X_train = np.concatenate((rf_train, dt_train, xgb_train), axis=1)"
   ]
  },
  {
   "cell_type": "code",
   "execution_count": 7,
   "metadata": {},
   "outputs": [
    {
     "name": "stdout",
     "output_type": "stream",
     "text": [
      "(916557, 3)\n"
     ]
    }
   ],
   "source": [
    "print(Stack_final_X_train.shape)"
   ]
  },
  {
   "cell_type": "code",
   "execution_count": 9,
   "metadata": {},
   "outputs": [],
   "source": [
    "pd.DataFrame(Stack_final_X_train).to_csv(\"stack_final_X_train.csv\")"
   ]
  },
  {
   "cell_type": "code",
   "execution_count": 14,
   "metadata": {},
   "outputs": [],
   "source": [
    "recent_train_df = pd.read_csv(\"./recent_train_df.csv\", index_col='idx')"
   ]
  },
  {
   "cell_type": "code",
   "execution_count": 16,
   "metadata": {},
   "outputs": [],
   "source": [
    "X_train_cf = X_train[['contactDay', 'floorRate']]\n",
    "X_train_cf.reset_index(drop=True, inplace=True)\n",
    "\n",
    "y_train.reset_index(drop=True, inplace=True)"
   ]
  },
  {
   "cell_type": "code",
   "execution_count": 17,
   "metadata": {},
   "outputs": [],
   "source": [
    "pred_X_train = pd.DataFrame(Stack_final_X_train, columns=['rf', 'dt', 'xgb'])\n",
    "\n",
    "final_X_train = pd.concat([recent_train_df, X_train_cf, pred_X_train], axis=1)"
   ]
  },
  {
   "cell_type": "code",
   "execution_count": 18,
   "metadata": {},
   "outputs": [],
   "source": [
    "train_data = pd.concat([final_X_train, y_train], axis=1)"
   ]
  },
  {
   "cell_type": "code",
   "execution_count": 19,
   "metadata": {},
   "outputs": [],
   "source": [
    "train_data = train_data[train_data['recentContactDay']!=0]"
   ]
  },
  {
   "cell_type": "code",
   "execution_count": 20,
   "metadata": {},
   "outputs": [
    {
     "name": "stdout",
     "output_type": "stream",
     "text": [
      "price               1.000000\n",
      "xgb                 0.964531\n",
      "rf                  0.950257\n",
      "dt                  0.902649\n",
      "contactDay          0.327626\n",
      "floorRate           0.009318\n",
      "recentFloorRate     0.002364\n",
      "recentContactDay    0.001786\n",
      "recentPrice        -0.001318\n",
      "Name: price, dtype: float64\n"
     ]
    }
   ],
   "source": [
    "corr = train_data.corr()\n",
    "print (corr['price'].sort_values(ascending=False))"
   ]
  },
  {
   "cell_type": "code",
   "execution_count": 21,
   "metadata": {},
   "outputs": [],
   "source": [
    "train_data['recentPrice'] = np.log2(train_data['recentPrice'])\n",
    "train_data['price'] = np.log2(train_data['price'])\n",
    "train_data['rf'] = np.log2(train_data['rf'])\n",
    "train_data['dt'] = np.log2(train_data['dt'])\n",
    "train_data['xgb'] = np.log2(train_data['xgb'])\n",
    "\n",
    "train_data.dropna(inplace=True, axis=0)"
   ]
  },
  {
   "cell_type": "code",
   "execution_count": 22,
   "metadata": {},
   "outputs": [],
   "source": [
    "final_X_train = train_data.drop(['price'], axis=1)\n",
    "final_y_train = train_data['price']"
   ]
  },
  {
   "cell_type": "code",
   "execution_count": 23,
   "metadata": {},
   "outputs": [
    {
     "data": {
      "text/html": [
       "<div>\n",
       "<style scoped>\n",
       "    .dataframe tbody tr th:only-of-type {\n",
       "        vertical-align: middle;\n",
       "    }\n",
       "\n",
       "    .dataframe tbody tr th {\n",
       "        vertical-align: top;\n",
       "    }\n",
       "\n",
       "    .dataframe thead th {\n",
       "        text-align: right;\n",
       "    }\n",
       "</style>\n",
       "<table border=\"1\" class=\"dataframe\">\n",
       "  <thead>\n",
       "    <tr style=\"text-align: right;\">\n",
       "      <th></th>\n",
       "      <th>recentContactDay</th>\n",
       "      <th>recentFloorRate</th>\n",
       "      <th>recentPrice</th>\n",
       "      <th>contactDay</th>\n",
       "      <th>floorRate</th>\n",
       "      <th>rf</th>\n",
       "      <th>dt</th>\n",
       "      <th>xgb</th>\n",
       "    </tr>\n",
       "  </thead>\n",
       "  <tbody>\n",
       "    <tr>\n",
       "      <th>0</th>\n",
       "      <td>3006</td>\n",
       "      <td>0.625000</td>\n",
       "      <td>28.060852</td>\n",
       "      <td>7044</td>\n",
       "      <td>0.416667</td>\n",
       "      <td>28.418896</td>\n",
       "      <td>28.275864</td>\n",
       "      <td>28.487397</td>\n",
       "    </tr>\n",
       "    <tr>\n",
       "      <th>1</th>\n",
       "      <td>3378</td>\n",
       "      <td>0.486111</td>\n",
       "      <td>27.071120</td>\n",
       "      <td>4503</td>\n",
       "      <td>0.555556</td>\n",
       "      <td>27.635500</td>\n",
       "      <td>27.538899</td>\n",
       "      <td>27.758191</td>\n",
       "    </tr>\n",
       "    <tr>\n",
       "      <th>2</th>\n",
       "      <td>6229</td>\n",
       "      <td>0.546875</td>\n",
       "      <td>28.060852</td>\n",
       "      <td>2855</td>\n",
       "      <td>0.555556</td>\n",
       "      <td>27.390201</td>\n",
       "      <td>27.297891</td>\n",
       "      <td>27.461650</td>\n",
       "    </tr>\n",
       "    <tr>\n",
       "      <th>3</th>\n",
       "      <td>2660</td>\n",
       "      <td>0.151515</td>\n",
       "      <td>28.248529</td>\n",
       "      <td>2473</td>\n",
       "      <td>0.277778</td>\n",
       "      <td>27.027282</td>\n",
       "      <td>26.568193</td>\n",
       "      <td>27.161782</td>\n",
       "    </tr>\n",
       "    <tr>\n",
       "      <th>4</th>\n",
       "      <td>7203</td>\n",
       "      <td>0.291667</td>\n",
       "      <td>28.315273</td>\n",
       "      <td>2464</td>\n",
       "      <td>0.555556</td>\n",
       "      <td>27.012386</td>\n",
       "      <td>26.568193</td>\n",
       "      <td>27.078489</td>\n",
       "    </tr>\n",
       "    <tr>\n",
       "      <th>...</th>\n",
       "      <td>...</td>\n",
       "      <td>...</td>\n",
       "      <td>...</td>\n",
       "      <td>...</td>\n",
       "      <td>...</td>\n",
       "      <td>...</td>\n",
       "      <td>...</td>\n",
       "      <td>...</td>\n",
       "    </tr>\n",
       "    <tr>\n",
       "      <th>916552</th>\n",
       "      <td>6412</td>\n",
       "      <td>0.054348</td>\n",
       "      <td>29.034856</td>\n",
       "      <td>2492</td>\n",
       "      <td>0.125000</td>\n",
       "      <td>27.932815</td>\n",
       "      <td>27.575425</td>\n",
       "      <td>28.043891</td>\n",
       "    </tr>\n",
       "    <tr>\n",
       "      <th>916553</th>\n",
       "      <td>6814</td>\n",
       "      <td>0.500000</td>\n",
       "      <td>30.005041</td>\n",
       "      <td>2460</td>\n",
       "      <td>0.562500</td>\n",
       "      <td>27.972690</td>\n",
       "      <td>27.744475</td>\n",
       "      <td>28.112489</td>\n",
       "    </tr>\n",
       "    <tr>\n",
       "      <th>916554</th>\n",
       "      <td>5621</td>\n",
       "      <td>0.638298</td>\n",
       "      <td>29.340960</td>\n",
       "      <td>2445</td>\n",
       "      <td>0.062500</td>\n",
       "      <td>27.867968</td>\n",
       "      <td>27.744475</td>\n",
       "      <td>27.901835</td>\n",
       "    </tr>\n",
       "    <tr>\n",
       "      <th>916555</th>\n",
       "      <td>3467</td>\n",
       "      <td>0.555556</td>\n",
       "      <td>27.160387</td>\n",
       "      <td>2443</td>\n",
       "      <td>0.312500</td>\n",
       "      <td>27.921331</td>\n",
       "      <td>27.744475</td>\n",
       "      <td>28.051566</td>\n",
       "    </tr>\n",
       "    <tr>\n",
       "      <th>916556</th>\n",
       "      <td>6362</td>\n",
       "      <td>0.260417</td>\n",
       "      <td>28.382780</td>\n",
       "      <td>2358</td>\n",
       "      <td>0.250000</td>\n",
       "      <td>27.849648</td>\n",
       "      <td>27.602954</td>\n",
       "      <td>27.965500</td>\n",
       "    </tr>\n",
       "  </tbody>\n",
       "</table>\n",
       "<p>890407 rows × 8 columns</p>\n",
       "</div>"
      ],
      "text/plain": [
       "        recentContactDay  recentFloorRate  recentPrice  contactDay  floorRate  \\\n",
       "0                   3006         0.625000    28.060852        7044   0.416667   \n",
       "1                   3378         0.486111    27.071120        4503   0.555556   \n",
       "2                   6229         0.546875    28.060852        2855   0.555556   \n",
       "3                   2660         0.151515    28.248529        2473   0.277778   \n",
       "4                   7203         0.291667    28.315273        2464   0.555556   \n",
       "...                  ...              ...          ...         ...        ...   \n",
       "916552              6412         0.054348    29.034856        2492   0.125000   \n",
       "916553              6814         0.500000    30.005041        2460   0.562500   \n",
       "916554              5621         0.638298    29.340960        2445   0.062500   \n",
       "916555              3467         0.555556    27.160387        2443   0.312500   \n",
       "916556              6362         0.260417    28.382780        2358   0.250000   \n",
       "\n",
       "               rf         dt        xgb  \n",
       "0       28.418896  28.275864  28.487397  \n",
       "1       27.635500  27.538899  27.758191  \n",
       "2       27.390201  27.297891  27.461650  \n",
       "3       27.027282  26.568193  27.161782  \n",
       "4       27.012386  26.568193  27.078489  \n",
       "...           ...        ...        ...  \n",
       "916552  27.932815  27.575425  28.043891  \n",
       "916553  27.972690  27.744475  28.112489  \n",
       "916554  27.867968  27.744475  27.901835  \n",
       "916555  27.921331  27.744475  28.051566  \n",
       "916556  27.849648  27.602954  27.965500  \n",
       "\n",
       "[890407 rows x 8 columns]"
      ]
     },
     "execution_count": 23,
     "metadata": {},
     "output_type": "execute_result"
    }
   ],
   "source": [
    "final_X_train"
   ]
  },
  {
   "cell_type": "code",
   "execution_count": 24,
   "metadata": {},
   "outputs": [],
   "source": [
    "final_X_train.to_csv(\"final_X_train.csv\")\n",
    "final_y_train.to_csv(\"final_y_train.csv\")"
   ]
  },
  {
   "cell_type": "code",
   "execution_count": 25,
   "metadata": {},
   "outputs": [
    {
     "name": "stdout",
     "output_type": "stream",
     "text": [
      "[01:21:37] WARNING: src/objective/regression_obj.cu:152: reg:linear is now deprecated in favor of reg:squarederror.\n"
     ]
    },
    {
     "data": {
      "text/plain": [
       "['metaModel.pkl']"
      ]
     },
     "execution_count": 25,
     "metadata": {},
     "output_type": "execute_result"
    }
   ],
   "source": [
    "# 메타 모델 학습 2\n",
    "metaModel = XGBRegressor(max_depth=6).fit(final_X_train, final_y_train)\n",
    "joblib.dump(metaModel, 'metaModel.pkl') "
   ]
  },
  {
   "cell_type": "code",
   "execution_count": null,
   "metadata": {},
   "outputs": [],
   "source": []
  }
 ],
 "metadata": {
  "kernelspec": {
   "display_name": "Python 3",
   "language": "python",
   "name": "python3"
  },
  "language_info": {
   "codemirror_mode": {
    "name": "ipython",
    "version": 3
   },
   "file_extension": ".py",
   "mimetype": "text/x-python",
   "name": "python",
   "nbconvert_exporter": "python",
   "pygments_lexer": "ipython3",
   "version": "3.7.5"
  }
 },
 "nbformat": 4,
 "nbformat_minor": 4
}
