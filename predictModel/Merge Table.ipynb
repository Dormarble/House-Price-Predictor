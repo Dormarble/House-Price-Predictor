{
 "cells": [
  {
   "cell_type": "code",
   "execution_count": 223,
   "metadata": {},
   "outputs": [],
   "source": [
    "import pandas as pd\n",
    "import numpy as np"
   ]
  },
  {
   "cell_type": "code",
   "execution_count": 224,
   "metadata": {},
   "outputs": [],
   "source": [
    "# 데이터 불러오기\n",
    "trade_df = pd.read_csv('../trades.csv')\n",
    "complex_df = pd.read_csv('../complexes.csv')\n",
    "pyeong_df = pd.read_csv('../pyeongs.csv')"
   ]
  },
  {
   "cell_type": "code",
   "execution_count": 225,
   "metadata": {},
   "outputs": [
    {
     "data": {
      "text/plain": [
       "complexNo  exclusiveArea\n",
       "1          59.13            1\n",
       "           69.21            1\n",
       "           84.73            1\n",
       "3          84.92            1\n",
       "           119.67           1\n",
       "                           ..\n",
       "134766     44.35            1\n",
       "           46.38            1\n",
       "134768     27.36            1\n",
       "134728     40.47            1\n",
       "134768     29.98            1\n",
       "Length: 62975, dtype: int64"
      ]
     },
     "execution_count": 225,
     "metadata": {},
     "output_type": "execute_result"
    }
   ],
   "source": [
    "# pyeong 데이터에서 complexNo와  exclusiveArea가 동일한 행들을 모두 제거\n",
    "pyeong_df.drop_duplicates(subset=['complexNo', 'exclusiveArea'], inplace=True)\n",
    "\n",
    "pyeong_df[['complexNo', 'exclusiveArea']].value_counts().sort_values(ascending=False)"
   ]
  },
  {
   "cell_type": "code",
   "execution_count": 229,
   "metadata": {},
   "outputs": [],
   "source": [
    "# pyeong과 complex 조인\n",
    "pyeong_complex_df = pd.merge(\n",
    "                        pyeong_df, \n",
    "                        complex_df, \n",
    "                        left_on='complexNo',\n",
    "                        right_on='complexNo',\n",
    "                        how='inner'\n",
    "                    )"
   ]
  },
  {
   "cell_type": "code",
   "execution_count": 232,
   "metadata": {},
   "outputs": [
    {
     "name": "stdout",
     "output_type": "stream",
     "text": [
      "       Unnamed: 0_x     id  complexNo  pyeongNo  supplyArea pyeongName  \\\n",
      "0                 0      1          1         1       82.29         82   \n",
      "1             12174  12175          1         2       89.83         89   \n",
      "2             23435  23436          1         4      103.32        103   \n",
      "3             32898  32899          1         3      104.86        104   \n",
      "4                 1      2         10         1       55.51         55   \n",
      "...             ...    ...        ...       ...         ...        ...   \n",
      "44406         12173  12174       9999         1       44.91         44   \n",
      "44407         23434  23435       9999         2       48.38         48   \n",
      "44408         32899  32900       9999         4       68.92        68A   \n",
      "44409         40280  40281       9999         5       70.40        70B   \n",
      "44410         45896  45897       9999         3       72.20         72   \n",
      "\n",
      "       supplyPyeong pyeongName2  exclusiveArea  exclusivePyeong  ...  \\\n",
      "0             24.89          24          59.13            17.88  ...   \n",
      "1             27.17          27          69.21            20.93  ...   \n",
      "2             31.25          31          84.73            25.63  ...   \n",
      "3             31.72          31          80.80            24.44  ...   \n",
      "4             16.79          16          37.67            11.39  ...   \n",
      "...             ...         ...            ...              ...  ...   \n",
      "44406         13.58          13          36.86            11.15  ...   \n",
      "44407         14.63          14          39.69            12.00  ...   \n",
      "44408         20.84         20A          56.57            17.11  ...   \n",
      "44409         21.29         21B          57.79            17.48  ...   \n",
      "44410         21.84          21          59.27            17.92  ...   \n",
      "\n",
      "       btlRatio parkingCountByHousehold  constructionCompanyName  \\\n",
      "0             0                    1.00                  현대건설(주)   \n",
      "1             0                    1.00                  현대건설(주)   \n",
      "2             0                    1.00                  현대건설(주)   \n",
      "3             0                    1.00                  현대건설(주)   \n",
      "4            18                    0.46                  (주)거성건설   \n",
      "...         ...                     ...                      ...   \n",
      "44406        48                    0.70                    미라보건설   \n",
      "44407        48                    0.70                    미라보건설   \n",
      "44408        48                    0.70                    미라보건설   \n",
      "44409        48                    0.70                    미라보건설   \n",
      "44410        48                    0.70                    미라보건설   \n",
      "\n",
      "      heatMethodTypeCode  heatFuelTypeCode               pyoengNames  \\\n",
      "0                  HT001             HF001       82㎡, 89㎡, 103㎡, 104   \n",
      "1                  HT001             HF001       82㎡, 89㎡, 103㎡, 104   \n",
      "2                  HT001             HF001       82㎡, 89㎡, 103㎡, 104   \n",
      "3                  HT001             HF001       82㎡, 89㎡, 103㎡, 104   \n",
      "4                  HT005             HF002                   55㎡, 80   \n",
      "...                  ...               ...                       ...   \n",
      "44406              HT001             HF001  44㎡, 48㎡, 68A㎡, 70B㎡, 72   \n",
      "44407              HT001             HF001  44㎡, 48㎡, 68A㎡, 70B㎡, 72   \n",
      "44408              HT001             HF001  44㎡, 48㎡, 68A㎡, 70B㎡, 72   \n",
      "44409              HT001             HF001  44㎡, 48㎡, 68A㎡, 70B㎡, 72   \n",
      "44410              HT001             HF001  44㎡, 48㎡, 68A㎡, 70B㎡, 72   \n",
      "\n",
      "             address  roadAddressPrefix          createdAt_y  \\\n",
      "0      서울시 성동구 성수동1가            서울시 성동구  2020-09-26 12:11:35   \n",
      "1      서울시 성동구 성수동1가            서울시 성동구  2020-09-26 12:11:35   \n",
      "2      서울시 성동구 성수동1가            서울시 성동구  2020-09-26 12:11:35   \n",
      "3      서울시 성동구 성수동1가            서울시 성동구  2020-09-26 12:11:35   \n",
      "4        서울시 강서구 등촌동            서울시 강서구  2020-09-26 12:11:35   \n",
      "...              ...                ...                  ...   \n",
      "44406  서울시 서대문구 남가좌동           서울시 서대문구  2020-09-26 12:11:40   \n",
      "44407  서울시 서대문구 남가좌동           서울시 서대문구  2020-09-26 12:11:40   \n",
      "44408  서울시 서대문구 남가좌동           서울시 서대문구  2020-09-26 12:11:40   \n",
      "44409  서울시 서대문구 남가좌동           서울시 서대문구  2020-09-26 12:11:40   \n",
      "44410  서울시 서대문구 남가좌동           서울시 서대문구  2020-09-26 12:11:40   \n",
      "\n",
      "               updatedAt_y  \n",
      "0      2020-09-26 12:11:35  \n",
      "1      2020-09-26 12:11:35  \n",
      "2      2020-09-26 12:11:35  \n",
      "3      2020-09-26 12:11:35  \n",
      "4      2020-09-26 12:11:35  \n",
      "...                    ...  \n",
      "44406  2020-09-26 12:11:40  \n",
      "44407  2020-09-26 12:11:40  \n",
      "44408  2020-09-26 12:11:40  \n",
      "44409  2020-09-26 12:11:40  \n",
      "44410  2020-09-26 12:11:40  \n",
      "\n",
      "[44386 rows x 67 columns]\n"
     ]
    }
   ],
   "source": [
    "# completionYear 컬럼이 NaN인 행을 모두 제거\n",
    "pyeong_complex_df.dropna(subset = ['completionYear'], inplace=True)\n",
    "print(pyeong_complex_df)"
   ]
  },
  {
   "cell_type": "code",
   "execution_count": 233,
   "metadata": {},
   "outputs": [
    {
     "data": {
      "text/plain": [
       "detailAddress   exclusiveArea  completionYear\n",
       "105             46.75          1993.0            4\n",
       "                118.25         1993.0            3\n",
       "                59.89          1993.0            3\n",
       "                84.66          1993.0            2\n",
       "                108.08         1993.0            2\n",
       "                                                ..\n",
       "항동지구5블록         76.95          2019.0            1\n",
       "                84.87          2019.0            1\n",
       "세곡2보금자리주택지구4블럭  101.40         2014.0            1\n",
       "                101.18         2014.0            1\n",
       "39-649          12.16          2013.0            1\n",
       "Length: 44373, dtype: int64"
      ]
     },
     "execution_count": 233,
     "metadata": {},
     "output_type": "execute_result"
    }
   ],
   "source": [
    "pyeong_complex_df[['detailAddress', 'exclusiveArea', 'completionYear']].value_counts().sort_values(ascending=False)"
   ]
  },
  {
   "cell_type": "code",
   "execution_count": 236,
   "metadata": {},
   "outputs": [
    {
     "data": {
      "text/plain": [
       "detailAddress  exclusiveArea  completionYear\n",
       "1              41.58          1991.0            1\n",
       "               84.92          2000.0            1\n",
       "               68.76          1991.0            1\n",
       "               71.78          1990.0            1\n",
       "               176.40         1988.0            1\n",
       "                                               ..\n",
       "항동지구5블록        76.88          2019.0            1\n",
       "               76.95          2019.0            1\n",
       "               84.87          2019.0            1\n",
       "항동공공주택지구6블록    116.99         2020.0            1\n",
       "항동지구5블록        106.87         2019.0            1\n",
       "Length: 44373, dtype: int64"
      ]
     },
     "execution_count": 236,
     "metadata": {},
     "output_type": "execute_result"
    }
   ],
   "source": [
    "pyeong_complex_df.drop_duplicates(subset=['detailAddress', 'exclusiveArea', 'completionYear'], inplace=True)\n",
    "\n",
    "pyeong_complex_df[['detailAddress', 'exclusiveArea', 'completionYear']].value_counts().sort_values(ascending=False)"
   ]
  },
  {
   "cell_type": "code",
   "execution_count": 240,
   "metadata": {
    "scrolled": true
   },
   "outputs": [
    {
     "name": "stdout",
     "output_type": "stream",
     "text": [
      "        Unnamed: 0     id_x      address_x detailAddress_x  detailAddressMain  \\\n",
      "0                0   999571  서울특별시 도봉구 방학동             713                713   \n",
      "1                1   999572  서울특별시 강남구 개포동           655-2                655   \n",
      "2                2   999573  서울특별시 강남구 개포동           655-2                655   \n",
      "3                3   999574  서울특별시 강남구 개포동           658-1                658   \n",
      "4                4   999575  서울특별시 강남구 개포동           658-1                658   \n",
      "...            ...      ...            ...             ...                ...   \n",
      "999565      999565  1999136  서울특별시 중랑구 중화동            11-7                 11   \n",
      "999566      999566  1999137  서울특별시 중랑구 중화동            11-7                 11   \n",
      "999567      999567  1999138  서울특별시 중랑구 중화동            11-7                 11   \n",
      "999568      999568  1999139  서울특별시 중랑구 중화동            11-7                 11   \n",
      "999569      999569  1999140  서울특별시 중랑구 중화동            11-7                 11   \n",
      "\n",
      "        detailAddressSub   complexName_x  exclusiveArea_x  \\\n",
      "0                      0      브라운스톤방학아파트            84.90   \n",
      "1                      2  개포2차현대아파트(220)            77.75   \n",
      "2                      2  개포2차현대아파트(220)            77.75   \n",
      "3                      1  개포6차우성아파트1동~8동            67.28   \n",
      "4                      1  개포6차우성아파트1동~8동            54.98   \n",
      "...                  ...             ...              ...   \n",
      "999565                 7     현대휴앤미(102동)            77.71   \n",
      "999566                 7     현대휴앤미(102동)            76.43   \n",
      "999567                 7     현대휴앤미(102동)            67.36   \n",
      "999568                 7     현대휴앤미(102동)            64.48   \n",
      "999569                 7     현대휴앤미(102동)            76.43   \n",
      "\n",
      "                contactDate      price  ...  btlRatio  \\\n",
      "0       2005-11-01 00:00:00  171000000  ...       0.0   \n",
      "1       2012-05-01 00:00:00  660000000  ...      20.0   \n",
      "2       2012-07-09 00:00:00  580000000  ...      20.0   \n",
      "3       2012-12-26 00:00:00  557000000  ...      21.0   \n",
      "4       2010-01-28 00:00:00  660000000  ...      21.0   \n",
      "...                     ...        ...  ...       ...   \n",
      "999565  2015-05-05 00:00:00  275000000  ...       NaN   \n",
      "999566  2015-05-19 00:00:00  269000000  ...       NaN   \n",
      "999567  2015-06-03 00:00:00  249500000  ...       NaN   \n",
      "999568  2015-07-01 00:00:00  260000000  ...       NaN   \n",
      "999569  2015-10-13 00:00:00  282500000  ...       NaN   \n",
      "\n",
      "        parkingCountByHousehold constructionCompanyName heatMethodTypeCode  \\\n",
      "0                          1.18                이수건설주식회사              HT001   \n",
      "1                          0.00               현대산업개발(주)              HT002   \n",
      "2                          0.00               현대산업개발(주)              HT002   \n",
      "3                          1.00                 우성건설(주)              HT001   \n",
      "4                          1.00                 우성건설(주)              HT001   \n",
      "...                         ...                     ...                ...   \n",
      "999565                      NaN                     NaN                NaN   \n",
      "999566                      NaN                     NaN                NaN   \n",
      "999567                      NaN                     NaN                NaN   \n",
      "999568                      NaN                     NaN                NaN   \n",
      "999569                      NaN                     NaN                NaN   \n",
      "\n",
      "       heatFuelTypeCode   pyoengNames    address_y  roadAddressPrefix  \\\n",
      "0                 HF001   109A㎡, 109B  서울시 도봉구 방학동            서울시 도봉구   \n",
      "1                 HF001            98  서울시 강남구 개포동            서울시 강남구   \n",
      "2                 HF001            98  서울시 강남구 개포동            서울시 강남구   \n",
      "3                 HF001  61㎡, 73㎡, 86  서울시 강남구 개포동            서울시 강남구   \n",
      "4                 HF001  61㎡, 73㎡, 86  서울시 강남구 개포동            서울시 강남구   \n",
      "...                 ...           ...          ...                ...   \n",
      "999565              NaN           NaN          NaN                NaN   \n",
      "999566              NaN           NaN          NaN                NaN   \n",
      "999567              NaN           NaN          NaN                NaN   \n",
      "999568              NaN           NaN          NaN                NaN   \n",
      "999569              NaN           NaN          NaN                NaN   \n",
      "\n",
      "                createdAt_y          updatedAt_y  \n",
      "0       2020-09-26 12:11:40  2020-09-26 12:11:40  \n",
      "1       2020-09-26 12:11:35  2020-09-26 12:11:35  \n",
      "2       2020-09-26 12:11:35  2020-09-26 12:11:35  \n",
      "3       2020-09-26 12:11:40  2020-09-26 12:11:40  \n",
      "4       2020-09-26 12:11:40  2020-09-26 12:11:40  \n",
      "...                     ...                  ...  \n",
      "999565                  NaN                  NaN  \n",
      "999566                  NaN                  NaN  \n",
      "999567                  NaN                  NaN  \n",
      "999568                  NaN                  NaN  \n",
      "999569                  NaN                  NaN  \n",
      "\n",
      "[999570 rows x 83 columns]\n"
     ]
    }
   ],
   "source": [
    "# '실거래가 데이터'와 '단지데이터+평데이터' 조인\n",
    "pyeong_complex_df['fk'] = pyeong_complex_df['detailAddress'] + ' ' \\\n",
    "                        + pyeong_complex_df['exclusiveArea'].astype('str') + ' ' \\\n",
    "                        + pyeong_complex_df['completionYear'].astype('int64').astype('str')\n",
    "\n",
    "trade_df['fk'] = trade_df['detailAddress'] + ' ' \\\n",
    "                + trade_df['exclusiveArea'].astype('str') + ' ' \\\n",
    "                + trade_df['constructYear'].astype('str')\n",
    "\n",
    "raw_train_df = pd.merge(trade_df, \n",
    "                        pyeong_complex_df, \n",
    "                        left_on='fk', \n",
    "                        right_on='fk',\n",
    "                        how='left'\n",
    "                       )\n",
    "\n",
    "print(raw_train_df)"
   ]
  },
  {
   "cell_type": "code",
   "execution_count": null,
   "metadata": {},
   "outputs": [],
   "source": []
  },
  {
   "cell_type": "code",
   "execution_count": 183,
   "metadata": {},
   "outputs": [],
   "source": [
    "# 불필요한 컬럼 제거\n",
    "raw_train_df = raw_train_df[['id_x', 'detailAddress_x', 'complexName_x', 'exclusiveArea_x', 'contactDate', 'price', 'floor', 'constructYear',\n",
    "       'roadAddress_x', 'complexNo', 'pyeongNo', 'supplyArea', 'supplyPyeong', 'exclusiveArea_y', 'exclusivePyeong',\n",
    "       'householdCountByPyeong', 'realEstateTypeCode_x', 'exclusiveRate', 'entranceType', 'roomCnt', 'bathroomCnt',\n",
    "       'complexName_y', 'cortarNo',  'detailAddress_y', 'roadAddress_y', 'latitude', 'longitude', 'totalHouseholdCount', \n",
    "       'totalLeaseHouseholdCount', 'highFloor', 'lowFloor', 'completionYear', 'completionMonth', 'totalDongCount',\n",
    "       'maxSupplyArea', 'minSupplyArea', 'dealCount', 'rentCount', 'batlRatio', 'btlRatio', 'parkingCountByHousehold', \n",
    "       'constructionCompanyName', 'heatMethodTypeCode', 'heatFuelTypeCode', 'address_y']]\n",
    "\n",
    "raw_train_df.columns = ['id', 'detailAddress', 'complexName', 'exclusiveArea', 'contactDate', 'price', 'floor', 'constructYear',\n",
    "       'roadAddress', 'complexNo', 'pyeongNo', 'supplyArea', 'supplyPyeong', 'exclusiveArea', 'exclusivePyeong',\n",
    "       'householdCountByPyeong', 'realEstateTypeCode', 'exclusiveRate', 'entranceType', 'roomCnt', 'bathroomCnt',\n",
    "       'complexName', 'cortarNo',  'detailAddress', 'roadAddress', 'latitude', 'longitude', 'totalHouseholdCount', \n",
    "       'totalLeaseHouseholdCount', 'highFloor', 'lowFloor', 'completionYear', 'completionMonth', 'totalDongCount',\n",
    "       'maxSupplyArea', 'minSupplyArea', 'dealCount', 'rentCount', 'batlRatio', 'btlRatio', 'parkingCountByHousehold', \n",
    "       'constructionCompanyName', 'heatMethodTypeCode', 'heatFuelTypeCode', 'address']"
   ]
  },
  {
   "cell_type": "code",
   "execution_count": 242,
   "metadata": {},
   "outputs": [
    {
     "name": "stdout",
     "output_type": "stream",
     "text": [
      "<class 'pandas.core.frame.DataFrame'>\n",
      "Int64Index: 999570 entries, 0 to 999569\n",
      "Data columns (total 83 columns):\n",
      " #   Column                        Non-Null Count   Dtype  \n",
      "---  ------                        --------------   -----  \n",
      " 0   Unnamed: 0                    999570 non-null  int64  \n",
      " 1   id_x                          999570 non-null  int64  \n",
      " 2   address_x                     999570 non-null  object \n",
      " 3   detailAddress_x               999418 non-null  object \n",
      " 4   detailAddressMain             999570 non-null  int64  \n",
      " 5   detailAddressSub              999570 non-null  int64  \n",
      " 6   complexName_x                 999570 non-null  object \n",
      " 7   exclusiveArea_x               999570 non-null  float64\n",
      " 8   contactDate                   999570 non-null  object \n",
      " 9   price                         999570 non-null  int64  \n",
      " 10  floor                         999570 non-null  int64  \n",
      " 11  constructYear                 999570 non-null  int64  \n",
      " 12  roadAddress_x                 999570 non-null  object \n",
      " 13  createdAt                     999570 non-null  object \n",
      " 14  updatedAt                     999570 non-null  object \n",
      " 15  fk                            999418 non-null  object \n",
      " 16  Unnamed: 0_x                  792387 non-null  float64\n",
      " 17  id_y                          792387 non-null  float64\n",
      " 18  complexNo                     792387 non-null  float64\n",
      " 19  pyeongNo                      792387 non-null  float64\n",
      " 20  supplyArea                    792387 non-null  float64\n",
      " 21  pyeongName                    792387 non-null  object \n",
      " 22  supplyPyeong                  792387 non-null  float64\n",
      " 23  pyeongName2                   792387 non-null  object \n",
      " 24  exclusiveArea_y               792387 non-null  float64\n",
      " 25  exclusivePyeong               792387 non-null  float64\n",
      " 26  householdCountByPyeong        792387 non-null  float64\n",
      " 27  realEstateTypeCode_x          792387 non-null  object \n",
      " 28  exclusiveRate                 792387 non-null  float64\n",
      " 29  entranceType                  792387 non-null  object \n",
      " 30  minPrice                      792387 non-null  float64\n",
      " 31  maxPrice                      792387 non-null  float64\n",
      " 32  propertyTotalTax              607230 non-null  float64\n",
      " 33  propertyTax                   607230 non-null  float64\n",
      " 34  localEduTax                   607230 non-null  float64\n",
      " 35  cityAreaTax                   607230 non-null  float64\n",
      " 36  realEstateTotalTax            607230 non-null  float64\n",
      " 37  decisionTax                   607230 non-null  float64\n",
      " 38  ruralSpecialTax               607230 non-null  float64\n",
      " 39  roomCnt                       792387 non-null  float64\n",
      " 40  bathroomCnt                   792387 non-null  float64\n",
      " 41  createdAt_x                   792387 non-null  object \n",
      " 42  updatedAt_x                   792387 non-null  object \n",
      " 43  Unnamed: 0_y                  792387 non-null  float64\n",
      " 44  complexName_y                 792387 non-null  object \n",
      " 45  cortarNo                      792387 non-null  float64\n",
      " 46  realEstateTypeCode_y          792387 non-null  object \n",
      " 47  realEstateTypeName            792387 non-null  object \n",
      " 48  detailAddress_y               792387 non-null  object \n",
      " 49  roadAddress_y                 792387 non-null  object \n",
      " 50  latitude                      792387 non-null  float64\n",
      " 51  longitude                     792387 non-null  float64\n",
      " 52  totalHouseholdCount           792387 non-null  float64\n",
      " 53  totalLeaseHouseholdCount      792387 non-null  float64\n",
      " 54  permanentLeaseHouseholdCount  792387 non-null  float64\n",
      " 55  nationLeaseHouseholdCount     792387 non-null  float64\n",
      " 56  civilLeaseHouseholdCount      792387 non-null  float64\n",
      " 57  publicLeaseHouseholdCount     792387 non-null  float64\n",
      " 58  longTermLeaseHouseholdCount   792387 non-null  float64\n",
      " 59  etcLeaseHouseholdCount        792387 non-null  float64\n",
      " 60  highFloor                     792387 non-null  float64\n",
      " 61  lowFloor                      792387 non-null  float64\n",
      " 62  completionYear                792387 non-null  float64\n",
      " 63  completionMonth               792387 non-null  object \n",
      " 64  totalDongCount                792387 non-null  float64\n",
      " 65  maxSupplyArea                 792387 non-null  float64\n",
      " 66  minSupplyArea                 792387 non-null  float64\n",
      " 67  dealCount                     792387 non-null  float64\n",
      " 68  rentCount                     792387 non-null  float64\n",
      " 69  leaseCount                    792387 non-null  float64\n",
      " 70  shortTermRentCount            792387 non-null  float64\n",
      " 71  isBookmarked                  792387 non-null  float64\n",
      " 72  batlRatio                     792387 non-null  float64\n",
      " 73  btlRatio                      792387 non-null  float64\n",
      " 74  parkingCountByHousehold       792387 non-null  float64\n",
      " 75  constructionCompanyName       769360 non-null  object \n",
      " 76  heatMethodTypeCode            792047 non-null  object \n",
      " 77  heatFuelTypeCode              792067 non-null  object \n",
      " 78  pyoengNames                   792387 non-null  object \n",
      " 79  address_y                     792387 non-null  object \n",
      " 80  roadAddressPrefix             792387 non-null  object \n",
      " 81  createdAt_y                   792387 non-null  object \n",
      " 82  updatedAt_y                   792387 non-null  object \n",
      "dtypes: float64(48), int64(7), object(28)\n",
      "memory usage: 640.6+ MB\n"
     ]
    }
   ],
   "source": [
    "raw_train_df.info()"
   ]
  },
  {
   "cell_type": "code",
   "execution_count": null,
   "metadata": {},
   "outputs": [],
   "source": []
  },
  {
   "cell_type": "code",
   "execution_count": null,
   "metadata": {},
   "outputs": [],
   "source": []
  },
  {
   "cell_type": "code",
   "execution_count": null,
   "metadata": {},
   "outputs": [],
   "source": []
  },
  {
   "cell_type": "code",
   "execution_count": null,
   "metadata": {},
   "outputs": [],
   "source": []
  }
 ],
 "metadata": {
  "kernelspec": {
   "display_name": "Python 3",
   "language": "python",
   "name": "python3"
  },
  "language_info": {
   "codemirror_mode": {
    "name": "ipython",
    "version": 3
   },
   "file_extension": ".py",
   "mimetype": "text/x-python",
   "name": "python",
   "nbconvert_exporter": "python",
   "pygments_lexer": "ipython3",
   "version": "3.8.3"
  }
 },
 "nbformat": 4,
 "nbformat_minor": 4
}
